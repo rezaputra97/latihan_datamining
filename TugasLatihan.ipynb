{
  "nbformat": 4,
  "nbformat_minor": 0,
  "metadata": {
    "colab": {
      "name": "Untitled3.ipynb",
      "provenance": [],
      "collapsed_sections": [],
      "authorship_tag": "ABX9TyPh2oejoRJpWyWm7hBQCCHz",
      "include_colab_link": true
    },
    "kernelspec": {
      "name": "python3",
      "display_name": "Python 3"
    }
  },
  "cells": [
    {
      "cell_type": "markdown",
      "metadata": {
        "id": "view-in-github",
        "colab_type": "text"
      },
      "source": [
        "<a href=\"https://colab.research.google.com/github/rezaputra97/latihan_datamining/blob/master/TugasLatihan.ipynb\" target=\"_parent\"><img src=\"https://colab.research.google.com/assets/colab-badge.svg\" alt=\"Open In Colab\"/></a>"
      ]
    },
    {
      "cell_type": "markdown",
      "metadata": {
        "id": "H4tVacUdZaH1",
        "colab_type": "text"
      },
      "source": [
        "# **Python Language Introduction**\n",
        "\n",
        "\n",
        "---\n",
        "\n",
        "\n",
        "Python adalah bahasa pemrograman tingkat tinggi tujuan umum yang banyak digunakan. Ini dibuat oleh Guido van Rossum pada tahun 1991 dan dikembangkan lebih lanjut oleh Python Software Foundation. Itu dirancang dengan penekanan pada keterbacaan kode, dan sintaksnya memungkinkan programmer untuk mengekspresikan konsep mereka dalam baris kode yang lebih sedikit.\n",
        "\n",
        "Python adalah bahasa pemrograman yang memungkinkan Anda bekerja dengan cepat dan mengintegrasikan sistem dengan lebih efisien.\n",
        "\n",
        "Ada dua versi Python utama: Python 2 dan Python 3. Keduanya sangat berbeda."
      ]
    },
    {
      "cell_type": "code",
      "metadata": {
        "id": "gR0ilz0wZ0BV",
        "colab_type": "code",
        "colab": {
          "base_uri": "https://localhost:8080/",
          "height": 34
        },
        "outputId": "6115781f-c9bb-4e7d-bfc1-b0f091f28ff8"
      },
      "source": [
        "# Script Begins \n",
        "print(\"GeeksQuiz\") \n",
        "# Scripts Ends "
      ],
      "execution_count": 1,
      "outputs": [
        {
          "output_type": "stream",
          "text": [
            "GeeksQuiz\n"
          ],
          "name": "stdout"
        }
      ]
    },
    {
      "cell_type": "markdown",
      "metadata": {
        "id": "Wq4EVjaqcUNi",
        "colab_type": "text"
      },
      "source": [
        "**Analisa**\n",
        "\n",
        "Baris 1: [# Script Begins] Dengan Python, komentar dimulai dengan #. Pernyataan ini diabaikan oleh penerjemah dan berfungsi sebagai dokumentasi pada kode .\n",
        "\n",
        "Baris 2: [cetak (“GeeksQuiz”)] Untuk mencetak sesuatu di konsol, gunakan fungsi print (). Fungsi ini juga menambahkan baris baru setelah pesan kami dicetak (tidak seperti dalam C). Perhatikan bahwa dalam Python 2, \"cetak\" bukan fungsi tetapi kata kunci dan karenanya dapat digunakan tanpa tanda kurung. Namun, dalam Python 3, ini adalah fungsi dan harus dipanggil dengan tanda kurung.\n",
        "\n",
        "Baris 3: [# Script Berakhir] Ini hanyalah komentar lain seperti di Baris 1."
      ]
    },
    {
      "cell_type": "markdown",
      "metadata": {
        "id": "_Upx-rTodxJy",
        "colab_type": "text"
      },
      "source": [
        "# **Python 3 basics**\n",
        "\n",
        "---\n",
        "\n",
        "\n",
        "\n",
        "Python dikembangkan oleh Guido van Rossum pada awal 1990-an dan versi terbarunya adalah 3.7.1, kita bisa menyebutnya sebagai Python3. Python 3.0 dirilis pada tahun 2008 dan ditafsirkan sebagai bahasa yang tidak dikompilasi dan penerjemah akan memeriksa kode baris demi baris. Artikel ini dapat digunakan untuk mempelajari dasar-dasar bahasa pemrograman Python. Berikut adalah contoh dari Basics Python 3, yaitu membuat \"Hello Word !\""
      ]
    },
    {
      "cell_type": "code",
      "metadata": {
        "id": "AGjCPqErePxA",
        "colab_type": "code",
        "colab": {
          "base_uri": "https://localhost:8080/",
          "height": 34
        },
        "outputId": "07bf30d8-1a77-4553-b6e7-e24c0c3618a1"
      },
      "source": [
        "# Python code for \"Hello World\" \n",
        "# nothing else to type...see how simple is the syntax. \n",
        "\n",
        "print(\"Hello World\")\t "
      ],
      "execution_count": 2,
      "outputs": [
        {
          "output_type": "stream",
          "text": [
            "Hello World\n"
          ],
          "name": "stdout"
        }
      ]
    },
    {
      "cell_type": "markdown",
      "metadata": {
        "id": "CfCVKZBdeu2y",
        "colab_type": "text"
      },
      "source": [
        "**Catatan:** Harap perhatikan bahwa Python untuk cakupannya tidak bergantung pada kurung kurawal ({}), melainkan menggunakan lekukan untuk cakupannya.\n",
        "Sekarang bergerak lebih jauh Mari kita mulai dasar-dasar Python kami. Saya "
      ]
    },
    {
      "cell_type": "markdown",
      "metadata": {
        "id": "jViyRMhGfaQJ",
        "colab_type": "text"
      },
      "source": [
        "**Variables and Data Structures**\n",
        "\n",
        "Di bahasa pemrograman lain seperti C, C ++ dan Java, yang perlu dilakukan adalah mendeklarasikan jenis variabel tetapi dengan Python tidak perlu melakukan itu. Cukup ketik variabel dan kapan nilai akan diberikan kepadanya, maka secara otomatis akan tahu apakah nilai yang diberikan akan berupa int, float atau char atau bahkan sebuah String."
      ]
    },
    {
      "cell_type": "code",
      "metadata": {
        "id": "f7OAR6CXf1ZY",
        "colab_type": "code",
        "colab": {
          "base_uri": "https://localhost:8080/",
          "height": 68
        },
        "outputId": "328b5729-ca22-4344-a9fe-009083524017"
      },
      "source": [
        "# Python program to declare variables \n",
        "myNumber = 3\n",
        "print(myNumber) \n",
        "\n",
        "myNumber2 = 4.5\n",
        "print(myNumber2) \n",
        "\n",
        "myNumber =\"helloworld\"\n",
        "print(myNumber) \n"
      ],
      "execution_count": 3,
      "outputs": [
        {
          "output_type": "stream",
          "text": [
            "3\n",
            "4.5\n",
            "helloworld\n"
          ],
          "name": "stdout"
        }
      ]
    },
    {
      "cell_type": "markdown",
      "metadata": {
        "id": "DmQgHWc3f6zw",
        "colab_type": "text"
      },
      "source": [
        "pada source code diatas, betapa sederhananya membuat sebuah variabel dan berikan nilai apa pun yang inginkan lalu gunakan fungsi cetak untuk mencetaknya. Python memiliki 4 jenis Data Structures bawaan yaitu Daftar, Kamus, Tuple dan Set.\n",
        "\n",
        "**List** adalah Struktur Data paling dasar dalam python. List adalah struktur data yang dapat diubah, yaitu item dapat ditambahkan ke daftar nanti setelah pembuatan list. Seperti berbelanja di pasar lokal dan membuat daftar beberapa item dan kemudian Anda dapat menambahkan lebih banyak item ke dalam daftar.\n",
        "fungsi append () digunakan untuk menambahkan data ke daftar."
      ]
    },
    {
      "cell_type": "code",
      "metadata": {
        "id": "dhJK-vWHgdL6",
        "colab_type": "code",
        "colab": {
          "base_uri": "https://localhost:8080/",
          "height": 34
        },
        "outputId": "4b0f8f30-1aa0-4a1f-ab4a-829d9e7ed76d"
      },
      "source": [
        "# Python program to illustrate list \n",
        "\n",
        "# creates a empty list \n",
        "nums = [] \n",
        "\n",
        "# appending data in list \n",
        "nums.append(21) \n",
        "nums.append(40.5) \n",
        "nums.append(\"String\") \n",
        "\n",
        "print(nums) "
      ],
      "execution_count": 4,
      "outputs": [
        {
          "output_type": "stream",
          "text": [
            "[21, 40.5, 'String']\n"
          ],
          "name": "stdout"
        }
      ]
    },
    {
      "cell_type": "markdown",
      "metadata": {
        "id": "riRRECRZhDRv",
        "colab_type": "text"
      },
      "source": [
        "Di bagian ini, kita akan belajar cara mengambil input dari pengguna dan karenanya memanipulasi atau hanya menampilkannya. fungsi input () digunakan untuk mengambil input dari pengguna."
      ]
    },
    {
      "cell_type": "code",
      "metadata": {
        "id": "BJMsGHp7h94Y",
        "colab_type": "code",
        "colab": {
          "base_uri": "https://localhost:8080/",
          "height": 51
        },
        "outputId": "a2aa5d4f-9b63-4c2f-a89b-cdbb9605ffe3"
      },
      "source": [
        "# Python program to illustrate \n",
        "# getting input from user \n",
        "name = input(\"Enter your name: \") \n",
        "\n",
        "# user entered the name 'harssh' \n",
        "print(\"hello\", name) \n"
      ],
      "execution_count": 5,
      "outputs": [
        {
          "output_type": "stream",
          "text": [
            "Enter your name: Reza Dwi Putra\n",
            "hello Reza Dwi Putra\n"
          ],
          "name": "stdout"
        }
      ]
    },
    {
      "cell_type": "code",
      "metadata": {
        "id": "JLq3LYdjianh",
        "colab_type": "code",
        "colab": {
          "base_uri": "https://localhost:8080/",
          "height": 68
        },
        "outputId": "248ad77a-e050-4451-bd01-2d38c8002dbd"
      },
      "source": [
        "# Python3 program to get input from user \n",
        "\n",
        "# accepting integer from the user \n",
        "num1 = int(input(\"Enter num1: \")) \n",
        "num2 = int(input(\"Enter num2: \")) \n",
        "\n",
        "num3 = num1 * num2 \n",
        "print(\"Product is: \", num3) "
      ],
      "execution_count": 6,
      "outputs": [
        {
          "output_type": "stream",
          "text": [
            "Enter num1: 80\n",
            "Enter num2: 90\n",
            "Product is:  7200\n"
          ],
          "name": "stdout"
        }
      ]
    },
    {
      "cell_type": "markdown",
      "metadata": {
        "id": "o0zsN74_is6w",
        "colab_type": "text"
      },
      "source": [
        "**Pilihan** dalam Python dibuat menggunakan dua kata kunci 'jika' dan 'elif' dan yang lain (elseif)"
      ]
    },
    {
      "cell_type": "code",
      "metadata": {
        "id": "pdtBFEhAivYB",
        "colab_type": "code",
        "colab": {
          "base_uri": "https://localhost:8080/",
          "height": 34
        },
        "outputId": "b28196c2-3b74-4fdc-ae7d-a8a4e17a1df6"
      },
      "source": [
        "# Python program to illustrate \n",
        "# selection statement \n",
        "\n",
        "num1 = 34\n",
        "if(num1>12): \n",
        "\tprint(\"Num1 is good\") \n",
        "elif(num1>35): \n",
        "\tprint(\"Num2 is not gooooo....\") \n",
        "else: \n",
        "\tprint(\"Num2 is great\") "
      ],
      "execution_count": 7,
      "outputs": [
        {
          "output_type": "stream",
          "text": [
            "Num1 is good\n"
          ],
          "name": "stdout"
        }
      ]
    },
    {
      "cell_type": "markdown",
      "metadata": {
        "id": "9emt63mui96W",
        "colab_type": "text"
      },
      "source": [
        "**Fungsi**\n",
        "\n",
        "Disini dapat menambahkan fungsi-fungsi seperti sekelompok kode yang dimaksudkan untuk melakukan tugas tertentu di seluruh skrip Python. Python menggunakan kata kunci ‘def’ untuk mendefinisikan suatu fungsi."
      ]
    },
    {
      "cell_type": "code",
      "metadata": {
        "id": "tUnZiv1YjFvI",
        "colab_type": "code",
        "colab": {
          "base_uri": "https://localhost:8080/",
          "height": 85
        },
        "outputId": "94f0db26-1853-4137-8f60-10224fe519f2"
      },
      "source": [
        "# Python program to illustrate \n",
        "# functions \n",
        "def hello(): \n",
        "\tprint(\"hello\") \n",
        "\tprint(\"hello again\") \n",
        "hello() \n",
        "\n",
        "# calling function \n",
        "hello()\t\t\t "
      ],
      "execution_count": 8,
      "outputs": [
        {
          "output_type": "stream",
          "text": [
            "hello\n",
            "hello again\n",
            "hello\n",
            "hello again\n"
          ],
          "name": "stdout"
        }
      ]
    },
    {
      "cell_type": "markdown",
      "metadata": {
        "id": "Jjh4tlX8jvtQ",
        "colab_type": "text"
      },
      "source": [
        "Sekarang seperti yang kita ketahui program apa pun dimulai dari fungsi 'utama' ... mari kita buat fungsi utama seperti di banyak bahasa pemrograman lainnya."
      ]
    },
    {
      "cell_type": "code",
      "metadata": {
        "id": "wc2nnFJ0j_dx",
        "colab_type": "code",
        "colab": {
          "base_uri": "https://localhost:8080/",
          "height": 68
        },
        "outputId": "2e60b581-f5f8-443a-f4f7-c917378df335"
      },
      "source": [
        "# Python program to illustrate \n",
        "# function with main \n",
        "def getInteger(): \n",
        "\tresult = int(input(\"Enter integer: \")) \n",
        "\treturn result \n",
        "\n",
        "def Main(): \n",
        "\tprint(\"Started\") \n",
        "# calling the getInteger function and \n",
        "# storing its returned value in the output variable \n",
        "\toutput = getInteger()\t \n",
        "\tprint(output) \n",
        "\n",
        "# now we are required to tell Python \n",
        "# for 'Main' function existence \n",
        "if __name__==\"__main__\": \n",
        "\tMain() "
      ],
      "execution_count": 9,
      "outputs": [
        {
          "output_type": "stream",
          "text": [
            "Started\n",
            "Enter integer: 15\n",
            "15\n"
          ],
          "name": "stdout"
        }
      ]
    },
    {
      "cell_type": "markdown",
      "metadata": {
        "id": "TslrajTskJLS",
        "colab_type": "text"
      },
      "source": [
        "**Iterasi (Looping)**\n",
        "\n",
        "Seperti namanya, itu menyebut hal yang berulang-ulang. Disini kita akan menggunakan fungsi loop 'untuk' paling populer di sini."
      ]
    },
    {
      "cell_type": "code",
      "metadata": {
        "id": "0_2xM_YLk09I",
        "colab_type": "code",
        "colab": {
          "base_uri": "https://localhost:8080/",
          "height": 102
        },
        "outputId": "75375b36-a52e-4729-cfa5-3bb13898cd58"
      },
      "source": [
        "# Python program to illustrate \n",
        "# a simple for loop \n",
        "\n",
        "for step in range(5):\t \n",
        "\tprint(step) "
      ],
      "execution_count": 10,
      "outputs": [
        {
          "output_type": "stream",
          "text": [
            "0\n",
            "1\n",
            "2\n",
            "3\n",
            "4\n"
          ],
          "name": "stdout"
        }
      ]
    },
    {
      "cell_type": "markdown",
      "metadata": {
        "id": "83enkbrDk7eR",
        "colab_type": "text"
      },
      "source": [
        "**Modul**\n",
        "\n",
        "Python memiliki pustaka modul yang sangat kaya yang memiliki beberapa fungsi untuk melakukan banyak tugas. Kita dapat membaca lebih lanjut tentang perpustakaan standar Python dengan Mengklik di sini\n",
        "Kata kunci ‘import’ digunakan untuk mengimpor modul tertentu ke dalam kode python Anda. Sebagai contoh, pertimbangkan program berikut."
      ]
    },
    {
      "cell_type": "code",
      "metadata": {
        "id": "6ZZ4GuzzlKPR",
        "colab_type": "code",
        "colab": {
          "base_uri": "https://localhost:8080/",
          "height": 51
        },
        "outputId": "bb6d2cbc-1523-4f04-bfc3-3efa50f2d4cc"
      },
      "source": [
        "# Python program to illustrate \n",
        "# math module \n",
        "import math \n",
        "\n",
        "def Main(): \n",
        "\tnum = float(input(\"Enter a number: \")) \n",
        "\t# fabs is used to get the absolute value of a decimal \n",
        "\tnum = math.fabs(num) \n",
        "\tprint(num) \n",
        "if __name__==\"__main__\": \n",
        "\tMain() "
      ],
      "execution_count": 11,
      "outputs": [
        {
          "output_type": "stream",
          "text": [
            "Enter a number: 14\n",
            "14.0\n"
          ],
          "name": "stdout"
        }
      ]
    },
    {
      "cell_type": "markdown",
      "metadata": {
        "id": "qSCdERWalgzZ",
        "colab_type": "text"
      },
      "source": [
        "# **Important differences between Python 2.x and Python 3.x with examples**\n",
        "\n"
      ]
    },
    {
      "cell_type": "markdown",
      "metadata": {
        "id": "vF4wukQhl9lt",
        "colab_type": "text"
      },
      "source": [
        "**Operator divisi**\n",
        "\n",
        "Jika kita mem-porting kode kita atau mengeksekusi kode python 3.x dalam python 2.x, itu bisa berbahaya jika perubahan-perubahan pembagian integer tidak diketahui (karena tidak memunculkan kesalahan apa pun). Lebih disukai menggunakan nilai mengambang (seperti 7,0 / 5 atau 7 / 5.0) untuk mendapatkan hasil yang diharapkan saat porting pada source code."
      ]
    },
    {
      "cell_type": "code",
      "metadata": {
        "id": "RXxbNdSHmrRD",
        "colab_type": "code",
        "colab": {
          "base_uri": "https://localhost:8080/",
          "height": 129
        },
        "outputId": "a09b4b51-ce7c-4bef-b18f-0010587c64b4"
      },
      "source": [
        "print 7 / 5"
      ],
      "execution_count": 24,
      "outputs": [
        {
          "output_type": "error",
          "ename": "SyntaxError",
          "evalue": "ignored",
          "traceback": [
            "\u001b[0;36m  File \u001b[0;32m\"<ipython-input-24-cc92c242f051>\"\u001b[0;36m, line \u001b[0;32m1\u001b[0m\n\u001b[0;31m    print 7 / 5\u001b[0m\n\u001b[0m          ^\u001b[0m\n\u001b[0;31mSyntaxError\u001b[0m\u001b[0;31m:\u001b[0m Missing parentheses in call to 'print'. Did you mean print(7 / 5)?\n"
          ]
        }
      ]
    },
    {
      "cell_type": "markdown",
      "metadata": {
        "id": "1ZgkLJ0YoAeD",
        "colab_type": "text"
      },
      "source": [
        "pada source code diatas terjadi error karena pada pemograman python 3 jika ingin misalkan ingin membagi sebuah angka tidak harus menggunakan perintah \"print\" dikarenakan pada python 3 sudah secara otomatis."
      ]
    },
    {
      "cell_type": "code",
      "metadata": {
        "id": "yFQL6x4wnO18",
        "colab_type": "code",
        "colab": {
          "base_uri": "https://localhost:8080/",
          "height": 34
        },
        "outputId": "8611ddb1-f3ef-49ce-90cc-e5a114cc540a"
      },
      "source": [
        "-7 / 5"
      ],
      "execution_count": 23,
      "outputs": [
        {
          "output_type": "execute_result",
          "data": {
            "text/plain": [
              "-1.4"
            ]
          },
          "metadata": {
            "tags": []
          },
          "execution_count": 23
        }
      ]
    },
    {
      "cell_type": "markdown",
      "metadata": {
        "id": "P29yMMtpo2g6",
        "colab_type": "text"
      },
      "source": [
        "pada source code diatas adalah contoh yang benar untuk mengimplementasikan sebuah source code python 3, karena tidak menggunakan perintah \"print\" seperti yang sudah dicontohkan pada init[24]"
      ]
    },
    {
      "cell_type": "markdown",
      "metadata": {
        "id": "HqKqMg3vpS8p",
        "colab_type": "text"
      },
      "source": [
        "# **Kesimpulan**\n",
        "\n",
        "pada bab ini membahas mengenai perbedaan implementasi source code yang digunakan pada python 3 dan python 2, jadi ketika menggunakan sebuah source code python 2, maka python 3 tidak akan bisa membaca bahkan mengimplementasikan sebuah source code python 2. Semakin versi python semakin tinggi maka semakin memudahkan dalam membuat source code atau mengimplemntasikan sebuah syntak untuk pengguna."
      ]
    },
    {
      "cell_type": "markdown",
      "metadata": {
        "id": "dFxGZmddtg6j",
        "colab_type": "text"
      },
      "source": [
        "# **Keywords in Python | Set 1**\n"
      ]
    },
    {
      "cell_type": "markdown",
      "metadata": {
        "id": "XNNCStpotpTC",
        "colab_type": "text"
      },
      "source": [
        "**Keyword**\n",
        "\n",
        "Artikel ini bertujuan memberikan wawasan terperinci untuk keyword ini.\n",
        "\n",
        "**1. True:** Keyword igunakan untuk mewakili boolean true. Jika pernyataan benar, \"Benar\" dicetak.\n",
        "\n",
        "**2. False:** Keyword ini digunakan untuk mewakili boolean false. Jika pernyataan salah, \"Salah\" dicetak."
      ]
    },
    {
      "cell_type": "markdown",
      "metadata": {
        "id": "IuLDkPahu7Y6",
        "colab_type": "text"
      },
      "source": [
        "True dan False dalam python 3 sama dengan 1 dan 0. Contoh:"
      ]
    },
    {
      "cell_type": "code",
      "metadata": {
        "id": "rlaEogwGuZu-",
        "colab_type": "code",
        "colab": {
          "base_uri": "https://localhost:8080/",
          "height": 85
        },
        "outputId": "493d7e15-fe08-486c-ad69-a51961a15f16"
      },
      "source": [
        "print (False == 0)\n",
        "print (True == 1)\n",
        "\n",
        "print (True + True + True)\n",
        "print (True + False + False)"
      ],
      "execution_count": 28,
      "outputs": [
        {
          "output_type": "stream",
          "text": [
            "True\n",
            "True\n",
            "3\n",
            "1\n"
          ],
          "name": "stdout"
        }
      ]
    },
    {
      "cell_type": "markdown",
      "metadata": {
        "id": "Or5nzen6vCgS",
        "colab_type": "text"
      },
      "source": [
        "**3. none:** Ini adalah konstanta khusus yang digunakan untuk menunjukkan nilai null atau void. Penting untuk diingat, 0, wadah kosong apa pun (mis. Daftar kosong) tidak menghitung ke Tidak ada.\n",
        "Ini adalah objek dari tipe data sendiri - NoneType. Tidak mungkin membuat beberapa objek Tidak Ada dan dapat menetapkannya ke variabel."
      ]
    },
    {
      "cell_type": "markdown",
      "metadata": {
        "id": "KUrHVFxdvRmJ",
        "colab_type": "text"
      },
      "source": [
        "**4. and:** Ini operator logis dengan python. \"and\" Kembalikan nilai false pertama. Jika tidak ditemukan kembalikan yang terakhir. Tabel kebenaran untuk \"and\".\n",
        "\n",
        "3 and 0 returns 0\n",
        "\n",
        "3 and 10 returns 10\n",
        "\n",
        "10 or 20 or 30 or 10 or 70 returns 70"
      ]
    },
    {
      "cell_type": "markdown",
      "metadata": {
        "id": "wBtTlmv0w91d",
        "colab_type": "text"
      },
      "source": [
        "\n",
        "**5. or:** Ini operator logis dengan python. \"or\" Kembalikan nilai True pertama. Jika tidak ditemukan, akan dikembalikan.\n",
        "\n",
        "3 or 0 returns 3\n",
        "\n",
        "3 or 10 returns 3\n",
        "\n",
        "0 or 0 or 3 or 10 or 0 returns 3"
      ]
    },
    {
      "cell_type": "markdown",
      "metadata": {
        "id": "sXJMJq3qxtHv",
        "colab_type": "text"
      },
      "source": [
        "**6. not:** Operator logis ini membalikkan nilai kebenaran."
      ]
    },
    {
      "cell_type": "code",
      "metadata": {
        "id": "cErOnu-KwPHs",
        "colab_type": "code",
        "colab": {
          "base_uri": "https://localhost:8080/",
          "height": 102
        },
        "outputId": "b5e7f9f8-5933-488b-97af-382d7c4f4a33"
      },
      "source": [
        "# Python code to demonstrate \n",
        "# True, False, None, and, or , not \n",
        "# showing that None is not equal to 0 \n",
        "# prints False as its false. \n",
        "print (None == 0) \n",
        "\n",
        "# showing objective of None \n",
        "# two None value equated to None \n",
        "# here x and y both are null \n",
        "# hence true \n",
        "x = None\n",
        "y = None\n",
        "print (x == y) \n",
        "\n",
        "# showing logical operation \n",
        "# or (returns True) \n",
        "print (True or False) \n",
        "\n",
        "# showing logical operation \n",
        "# and (returns False) \n",
        "print (False and True) \n",
        "\n",
        "# showing logical operation \n",
        "# not (returns False) \n",
        "print (not True) "
      ],
      "execution_count": 29,
      "outputs": [
        {
          "output_type": "stream",
          "text": [
            "False\n",
            "True\n",
            "True\n",
            "False\n",
            "False\n"
          ],
          "name": "stdout"
        }
      ]
    },
    {
      "cell_type": "markdown",
      "metadata": {
        "id": "Gz51fyPdym3B",
        "colab_type": "text"
      },
      "source": [
        "**7. assert:** Fungsi ini digunakan untuk tujuan debugging. Biasanya digunakan untuk memeriksa kebenaran kode. Jika pernyataan dievaluasi benar, tidak ada yang terjadi, tetapi ketika itu salah, \"AssertionError\" dimunculkan. Satu juga dapat mencetak pesan dengan kesalahan, dipisahkan oleh koma.\n",
        "\n",
        "**8. break:** \"break\" digunakan untuk mengontrol aliran loop. Pernyataan ini digunakan untuk keluar dari loop dan meneruskan kontrol ke pernyataan berikut segera setelah loop.\n",
        "\n",
        "**9. continue:** \"continue\" juga digunakan untuk mengontrol aliran kode. Kata kunci melewatkan iterasi saat ini dari loop, tetapi tidak mengakhiri loop."
      ]
    },
    {
      "cell_type": "markdown",
      "metadata": {
        "id": "u05Ho3iwy2gs",
        "colab_type": "text"
      },
      "source": [
        "# **Ilustrasi keyword break and continue**\n",
        "\n",
        "Perulangan dan Kontrol Pernyataan (lanjutkan, istirahat dan lewati) dengan Python\n",
        "\n",
        "**10. class:** Kata kunci ini digunakan untuk mendeklarasikan kelas yang ditentukan pengguna.\n",
        "\n",
        "**11. def:** Kata kunci ini digunakan untuk mendeklarasikan fungsi yang ditentukan pengguna.\n",
        "\n",
        "1**2. if:** Ini adalah pernyataan kontrol untuk pengambilan keputusan. Ekspresi kebenaran memaksa kontrol untuk masuk dalam blok pernyataan \"if\".\n",
        "\n",
        "**13. else:** Ini adalah pernyataan kontrol untuk pengambilan keputusan. Ekspresi yang salah memaksa kontrol untuk masuk dalam blok pernyataan \"else.\n",
        "\n",
        "**14. Elif**: Ini adalah pernyataan kontrol untuk pengambilan keputusan. Ini adalah kependekan dari \"else if\"\n",
        "\n",
        "**15. del:** del digunakan untuk menghapus referensi ke suatu objek. Setiap variabel atau nilai daftar dapat dihapus menggunakan del."
      ]
    },
    {
      "cell_type": "code",
      "metadata": {
        "id": "WlIHECBdvklj",
        "colab_type": "code",
        "colab": {
          "base_uri": "https://localhost:8080/",
          "height": 265
        },
        "outputId": "03692cf1-7ab7-438c-8d9d-5a93b5b8d248"
      },
      "source": [
        "# Python code to demonstrate \n",
        "# del and assert \n",
        "\n",
        "# initialising list \n",
        "a = [1, 2, 3] \n",
        "\n",
        "# printing list before deleting any value \n",
        "print (\"The list before deleting any value\") \n",
        "print (a) \n",
        "\n",
        "# using del to delete 2nd element of list \n",
        "del a[1] \n",
        "\n",
        "# printing list after deleting 2nd element \n",
        "print (\"The list after deleting 2nd element\") \n",
        "print (a) \n",
        "\n",
        "# demonstrating use of assert \n",
        "# prints AssertionError \n",
        "assert 5 < 3, \"5 is not smaller than 3\""
      ],
      "execution_count": 30,
      "outputs": [
        {
          "output_type": "stream",
          "text": [
            "The list before deleting any value\n",
            "[1, 2, 3]\n",
            "The list after deleting 2nd element\n",
            "[1, 3]\n"
          ],
          "name": "stdout"
        },
        {
          "output_type": "error",
          "ename": "AssertionError",
          "evalue": "ignored",
          "traceback": [
            "\u001b[0;31m---------------------------------------------------------------------------\u001b[0m",
            "\u001b[0;31mAssertionError\u001b[0m                            Traceback (most recent call last)",
            "\u001b[0;32m<ipython-input-30-22928689161c>\u001b[0m in \u001b[0;36m<module>\u001b[0;34m()\u001b[0m\n\u001b[1;32m     14\u001b[0m \u001b[0;31m# demonstrating use of assert\u001b[0m\u001b[0;34m\u001b[0m\u001b[0;34m\u001b[0m\u001b[0;34m\u001b[0m\u001b[0m\n\u001b[1;32m     15\u001b[0m \u001b[0;31m# prints AssertionError\u001b[0m\u001b[0;34m\u001b[0m\u001b[0;34m\u001b[0m\u001b[0;34m\u001b[0m\u001b[0m\n\u001b[0;32m---> 16\u001b[0;31m \u001b[0;32massert\u001b[0m \u001b[0;36m5\u001b[0m \u001b[0;34m<\u001b[0m \u001b[0;36m3\u001b[0m\u001b[0;34m,\u001b[0m \u001b[0;34m\"5 is not smaller than 3\"\u001b[0m\u001b[0;34m\u001b[0m\u001b[0;34m\u001b[0m\u001b[0m\n\u001b[0m",
            "\u001b[0;31mAssertionError\u001b[0m: 5 is not smaller than 3"
          ]
        }
      ]
    }
  ]
}